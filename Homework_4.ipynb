{
 "cells": [
  {
   "cell_type": "markdown",
   "metadata": {},
   "source": [
    "# Imports"
   ]
  },
  {
   "cell_type": "code",
   "execution_count": 172,
   "metadata": {
    "ExecuteTime": {
     "end_time": "2022-02-18T18:58:59.774781Z",
     "start_time": "2022-02-18T18:58:59.771055Z"
    }
   },
   "outputs": [],
   "source": [
    "import pandas as pd\n",
    "import numpy as np\n",
    "import matplotlib.pyplot as plt\n",
    " \n",
    "from HW4 import *\n",
    "from utils import *\n",
    "\n",
    "plt.style.use(['science','no-latex'])"
   ]
  },
  {
   "cell_type": "markdown",
   "metadata": {},
   "source": [
    "# Enunciado"
   ]
  },
  {
   "cell_type": "markdown",
   "metadata": {
    "ExecuteTime": {
     "end_time": "2022-02-17T13:08:53.058168Z",
     "start_time": "2022-02-17T13:08:53.046699Z"
    }
   },
   "source": [
    "<img src=\"images/enunciadoa.png\" style=\"width: 850px;\"/>"
   ]
  },
  {
   "cell_type": "markdown",
   "metadata": {},
   "source": [
    "<img src=\"images/enunciadoc.png\" style=\"width: 850px;\"/>"
   ]
  },
  {
   "cell_type": "markdown",
   "metadata": {},
   "source": [
    "## Item (B)"
   ]
  },
  {
   "cell_type": "code",
   "execution_count": 173,
   "metadata": {
    "ExecuteTime": {
     "end_time": "2022-02-18T18:59:00.976112Z",
     "start_time": "2022-02-18T18:59:00.969662Z"
    }
   },
   "outputs": [],
   "source": [
    "# constants\n",
    "t0 = 0\n",
    "y0 = np.array([1])\n",
    "tf = 20\n",
    "r,K = 2,10_0000\n",
    "h = 0.1\n",
    "n = int((tf-t0)/h)\n",
    "\n",
    "\n",
    "# Cauchy\n",
    "def y_dot(t:float,y:np.array) -> np.array:\n",
    "    r,K = 2,10_0000\n",
    "    return np.array([r*(1-(y/K))*y])\n",
    "\n",
    "\n",
    "# Exact Solution\n",
    "def y_true(t:float) -> np.array:\n",
    "    y0 = 1\n",
    "    r,K = 2,10_0000\n",
    "    sol = (y0*K)/(y0 + (K-y0)*np.exp(-r*t))\n",
    "    return np.array([sol])"
   ]
  },
  {
   "cell_type": "code",
   "execution_count": 174,
   "metadata": {
    "ExecuteTime": {
     "end_time": "2022-02-18T18:59:01.313436Z",
     "start_time": "2022-02-18T18:59:01.256264Z"
    }
   },
   "outputs": [],
   "source": [
    "# EDO\n",
    "edo_tarefa4a = EDONumSol(y_dot = y_dot,\n",
    "                         y_0 = y0,\n",
    "                         t_0 = t0,\n",
    "                         t_f = tf,\n",
    "                         h = h)\n",
    "\n",
    "# Exact Solution - creating exact solution for plots\n",
    "t_e = np.linspace(t0,tf,10000)\n",
    "y_exact = np.array([y_true(t_) for t_ in t_e]).swapaxes(0,1)"
   ]
  },
  {
   "cell_type": "markdown",
   "metadata": {},
   "source": [
    "### Convergence Analysis"
   ]
  },
  {
   "cell_type": "code",
   "execution_count": 175,
   "metadata": {
    "ExecuteTime": {
     "end_time": "2022-02-18T18:59:16.006019Z",
     "start_time": "2022-02-18T18:59:01.779893Z"
    }
   },
   "outputs": [],
   "source": [
    "conv_analysis = edo_tarefa4a.convergence_analysis(h_0 = 0.1, \n",
    "                                                  max_evals=10, \n",
    "                                                  y_true = y_true,\n",
    "                                                  method = \"HW4\")\n",
    "\n",
    "tables_convergence = [conv_analysis(initialization_method = m) for m in [\"exact\",\"euler-improved\",\"euler-explicit\", \"noise\"]]"
   ]
  },
  {
   "cell_type": "code",
   "execution_count": 159,
   "metadata": {
    "ExecuteTime": {
     "end_time": "2022-02-17T21:23:15.383625Z",
     "start_time": "2022-02-17T21:23:15.358103Z"
    }
   },
   "outputs": [
    {
     "data": {
      "text/html": [
       "<div>\n",
       "<style scoped>\n",
       "    .dataframe tbody tr th:only-of-type {\n",
       "        vertical-align: middle;\n",
       "    }\n",
       "\n",
       "    .dataframe tbody tr th {\n",
       "        vertical-align: top;\n",
       "    }\n",
       "\n",
       "    .dataframe thead th {\n",
       "        text-align: right;\n",
       "    }\n",
       "</style>\n",
       "<table border=\"1\" class=\"dataframe\">\n",
       "  <thead>\n",
       "    <tr style=\"text-align: right;\">\n",
       "      <th></th>\n",
       "      <th></th>\n",
       "      <th>error_var0</th>\n",
       "      <th>p_var0</th>\n",
       "      <th>error_var0</th>\n",
       "      <th>p_var0</th>\n",
       "      <th>error_var0</th>\n",
       "      <th>p_var0</th>\n",
       "      <th>error_var0</th>\n",
       "      <th>p_var0</th>\n",
       "    </tr>\n",
       "    <tr>\n",
       "      <th>k</th>\n",
       "      <th>h_k</th>\n",
       "      <th></th>\n",
       "      <th></th>\n",
       "      <th></th>\n",
       "      <th></th>\n",
       "      <th></th>\n",
       "      <th></th>\n",
       "      <th></th>\n",
       "      <th></th>\n",
       "    </tr>\n",
       "  </thead>\n",
       "  <tbody>\n",
       "    <tr>\n",
       "      <th>0</th>\n",
       "      <th>0.100000</th>\n",
       "      <td>9244.025370</td>\n",
       "      <td>NaN</td>\n",
       "      <td>9307.994468</td>\n",
       "      <td>NaN</td>\n",
       "      <td>10226.411967</td>\n",
       "      <td>NaN</td>\n",
       "      <td>20682.835479</td>\n",
       "      <td>NaN</td>\n",
       "    </tr>\n",
       "    <tr>\n",
       "      <th>1</th>\n",
       "      <th>0.050000</th>\n",
       "      <td>2649.294171</td>\n",
       "      <td>1.802913</td>\n",
       "      <td>2657.476861</td>\n",
       "      <td>1.808413</td>\n",
       "      <td>2898.619704</td>\n",
       "      <td>1.818862</td>\n",
       "      <td>8070.094742</td>\n",
       "      <td>1.357776</td>\n",
       "    </tr>\n",
       "    <tr>\n",
       "      <th>2</th>\n",
       "      <th>0.025000</th>\n",
       "      <td>708.766940</td>\n",
       "      <td>1.902225</td>\n",
       "      <td>709.801629</td>\n",
       "      <td>1.904569</td>\n",
       "      <td>771.143909</td>\n",
       "      <td>1.910294</td>\n",
       "      <td>3316.053834</td>\n",
       "      <td>1.283118</td>\n",
       "    </tr>\n",
       "    <tr>\n",
       "      <th>3</th>\n",
       "      <th>0.012500</th>\n",
       "      <td>183.116778</td>\n",
       "      <td>1.952547</td>\n",
       "      <td>183.246454</td>\n",
       "      <td>1.953631</td>\n",
       "      <td>198.712795</td>\n",
       "      <td>1.956315</td>\n",
       "      <td>1459.938755</td>\n",
       "      <td>1.183560</td>\n",
       "    </tr>\n",
       "    <tr>\n",
       "      <th>4</th>\n",
       "      <th>0.006250</th>\n",
       "      <td>46.524319</td>\n",
       "      <td>1.976707</td>\n",
       "      <td>46.540539</td>\n",
       "      <td>1.977225</td>\n",
       "      <td>50.421398</td>\n",
       "      <td>1.978577</td>\n",
       "      <td>678.212799</td>\n",
       "      <td>1.106098</td>\n",
       "    </tr>\n",
       "    <tr>\n",
       "      <th>5</th>\n",
       "      <th>0.003125</th>\n",
       "      <td>11.724323</td>\n",
       "      <td>1.988480</td>\n",
       "      <td>11.726350</td>\n",
       "      <td>1.988734</td>\n",
       "      <td>12.698318</td>\n",
       "      <td>1.989399</td>\n",
       "      <td>325.895140</td>\n",
       "      <td>1.057330</td>\n",
       "    </tr>\n",
       "    <tr>\n",
       "      <th>6</th>\n",
       "      <th>0.001563</th>\n",
       "      <td>2.942741</td>\n",
       "      <td>1.994272</td>\n",
       "      <td>2.942995</td>\n",
       "      <td>1.994397</td>\n",
       "      <td>3.186180</td>\n",
       "      <td>1.994738</td>\n",
       "      <td>159.610192</td>\n",
       "      <td>1.029855</td>\n",
       "    </tr>\n",
       "    <tr>\n",
       "      <th>7</th>\n",
       "      <th>0.000781</th>\n",
       "      <td>0.737142</td>\n",
       "      <td>1.997147</td>\n",
       "      <td>0.737173</td>\n",
       "      <td>1.997209</td>\n",
       "      <td>0.797994</td>\n",
       "      <td>1.997377</td>\n",
       "      <td>78.966475</td>\n",
       "      <td>1.015241</td>\n",
       "    </tr>\n",
       "    <tr>\n",
       "      <th>8</th>\n",
       "      <th>0.000391</th>\n",
       "      <td>0.184467</td>\n",
       "      <td>1.998576</td>\n",
       "      <td>0.184471</td>\n",
       "      <td>1.998607</td>\n",
       "      <td>0.199680</td>\n",
       "      <td>1.998691</td>\n",
       "      <td>39.273047</td>\n",
       "      <td>1.007701</td>\n",
       "    </tr>\n",
       "    <tr>\n",
       "      <th>9</th>\n",
       "      <th>0.000195</th>\n",
       "      <td>0.046140</td>\n",
       "      <td>1.999288</td>\n",
       "      <td>0.046140</td>\n",
       "      <td>1.999304</td>\n",
       "      <td>0.049943</td>\n",
       "      <td>1.999346</td>\n",
       "      <td>19.583909</td>\n",
       "      <td>1.003871</td>\n",
       "    </tr>\n",
       "  </tbody>\n",
       "</table>\n",
       "</div>"
      ],
      "text/plain": [
       "             error_var0    p_var0   error_var0    p_var0    error_var0  \\\n",
       "k h_k                                                                    \n",
       "0 0.100000  9244.025370       NaN  9307.994468       NaN  10226.411967   \n",
       "1 0.050000  2649.294171  1.802913  2657.476861  1.808413   2898.619704   \n",
       "2 0.025000   708.766940  1.902225   709.801629  1.904569    771.143909   \n",
       "3 0.012500   183.116778  1.952547   183.246454  1.953631    198.712795   \n",
       "4 0.006250    46.524319  1.976707    46.540539  1.977225     50.421398   \n",
       "5 0.003125    11.724323  1.988480    11.726350  1.988734     12.698318   \n",
       "6 0.001563     2.942741  1.994272     2.942995  1.994397      3.186180   \n",
       "7 0.000781     0.737142  1.997147     0.737173  1.997209      0.797994   \n",
       "8 0.000391     0.184467  1.998576     0.184471  1.998607      0.199680   \n",
       "9 0.000195     0.046140  1.999288     0.046140  1.999304      0.049943   \n",
       "\n",
       "              p_var0    error_var0    p_var0  \n",
       "k h_k                                         \n",
       "0 0.100000       NaN  20682.835479       NaN  \n",
       "1 0.050000  1.818862   8070.094742  1.357776  \n",
       "2 0.025000  1.910294   3316.053834  1.283118  \n",
       "3 0.012500  1.956315   1459.938755  1.183560  \n",
       "4 0.006250  1.978577    678.212799  1.106098  \n",
       "5 0.003125  1.989399    325.895140  1.057330  \n",
       "6 0.001563  1.994738    159.610192  1.029855  \n",
       "7 0.000781  1.997377     78.966475  1.015241  \n",
       "8 0.000391  1.998691     39.273047  1.007701  \n",
       "9 0.000195  1.999346     19.583909  1.003871  "
      ]
     },
     "execution_count": 159,
     "metadata": {},
     "output_type": "execute_result"
    }
   ],
   "source": [
    "conv_tables = pd.concat([df.set_index(['k', 'h_k']) for df in tables_convergence], axis=1)\n",
    "conv_tables"
   ]
  },
  {
   "cell_type": "code",
   "execution_count": 22,
   "metadata": {
    "ExecuteTime": {
     "end_time": "2022-02-17T20:05:14.067656Z",
     "start_time": "2022-02-17T20:04:59.398852Z"
    }
   },
   "outputs": [],
   "source": [
    "conv_analysis_ab3 = edo_tarefa4a.convergence_analysis(h_0 = 0.1, \n",
    "                                                      max_evals=10, \n",
    "                                                      y_true = y_true,\n",
    "                                                      method = \"AB-3\")\n",
    "\n",
    "tables_convergence_ab3 = [conv_analysis_ab3(initialization_method = m) for m in [\"exact\",\"euler-improved\",\"euler-explicit\", \"noise\"]]"
   ]
  },
  {
   "cell_type": "code",
   "execution_count": 23,
   "metadata": {
    "ExecuteTime": {
     "end_time": "2022-02-17T20:05:14.094915Z",
     "start_time": "2022-02-17T20:05:14.070269Z"
    }
   },
   "outputs": [
    {
     "data": {
      "text/html": [
       "<div>\n",
       "<style scoped>\n",
       "    .dataframe tbody tr th:only-of-type {\n",
       "        vertical-align: middle;\n",
       "    }\n",
       "\n",
       "    .dataframe tbody tr th {\n",
       "        vertical-align: top;\n",
       "    }\n",
       "\n",
       "    .dataframe thead th {\n",
       "        text-align: right;\n",
       "    }\n",
       "</style>\n",
       "<table border=\"1\" class=\"dataframe\">\n",
       "  <thead>\n",
       "    <tr style=\"text-align: right;\">\n",
       "      <th></th>\n",
       "      <th></th>\n",
       "      <th>error_var0</th>\n",
       "      <th>p_var0</th>\n",
       "      <th>error_var0</th>\n",
       "      <th>p_var0</th>\n",
       "      <th>error_var0</th>\n",
       "      <th>p_var0</th>\n",
       "      <th>error_var0</th>\n",
       "      <th>p_var0</th>\n",
       "    </tr>\n",
       "    <tr>\n",
       "      <th>k</th>\n",
       "      <th>h_k</th>\n",
       "      <th></th>\n",
       "      <th></th>\n",
       "      <th></th>\n",
       "      <th></th>\n",
       "      <th></th>\n",
       "      <th></th>\n",
       "      <th></th>\n",
       "      <th></th>\n",
       "    </tr>\n",
       "  </thead>\n",
       "  <tbody>\n",
       "    <tr>\n",
       "      <th>0</th>\n",
       "      <th>0.100000</th>\n",
       "      <td>415.870714</td>\n",
       "      <td>NaN</td>\n",
       "      <td>474.578820</td>\n",
       "      <td>NaN</td>\n",
       "      <td>1319.101531</td>\n",
       "      <td>NaN</td>\n",
       "      <td>10134.877975</td>\n",
       "      <td>NaN</td>\n",
       "    </tr>\n",
       "    <tr>\n",
       "      <th>1</th>\n",
       "      <th>0.050000</th>\n",
       "      <td>58.926986</td>\n",
       "      <td>2.819135</td>\n",
       "      <td>66.729709</td>\n",
       "      <td>2.830247</td>\n",
       "      <td>295.505128</td>\n",
       "      <td>2.158301</td>\n",
       "      <td>4979.737256</td>\n",
       "      <td>1.025187</td>\n",
       "    </tr>\n",
       "    <tr>\n",
       "      <th>2</th>\n",
       "      <th>0.025000</th>\n",
       "      <td>7.843478</td>\n",
       "      <td>2.909363</td>\n",
       "      <td>8.850192</td>\n",
       "      <td>2.914549</td>\n",
       "      <td>68.535607</td>\n",
       "      <td>2.108258</td>\n",
       "      <td>2486.174646</td>\n",
       "      <td>1.002142</td>\n",
       "    </tr>\n",
       "    <tr>\n",
       "      <th>3</th>\n",
       "      <th>0.012500</th>\n",
       "      <td>1.011670</td>\n",
       "      <td>2.954755</td>\n",
       "      <td>1.139628</td>\n",
       "      <td>2.957146</td>\n",
       "      <td>16.401306</td>\n",
       "      <td>2.063043</td>\n",
       "      <td>1245.340813</td>\n",
       "      <td>0.997387</td>\n",
       "    </tr>\n",
       "    <tr>\n",
       "      <th>4</th>\n",
       "      <th>0.006250</th>\n",
       "      <td>0.128459</td>\n",
       "      <td>2.977360</td>\n",
       "      <td>0.144592</td>\n",
       "      <td>2.978499</td>\n",
       "      <td>4.004732</td>\n",
       "      <td>2.034033</td>\n",
       "      <td>623.693024</td>\n",
       "      <td>0.997633</td>\n",
       "    </tr>\n",
       "    <tr>\n",
       "      <th>5</th>\n",
       "      <th>0.003125</th>\n",
       "      <td>0.016184</td>\n",
       "      <td>2.988660</td>\n",
       "      <td>0.018210</td>\n",
       "      <td>2.989222</td>\n",
       "      <td>0.988951</td>\n",
       "      <td>2.017734</td>\n",
       "      <td>312.153645</td>\n",
       "      <td>0.998580</td>\n",
       "    </tr>\n",
       "    <tr>\n",
       "      <th>6</th>\n",
       "      <th>0.001563</th>\n",
       "      <td>0.002031</td>\n",
       "      <td>2.994328</td>\n",
       "      <td>0.002285</td>\n",
       "      <td>2.994606</td>\n",
       "      <td>0.245692</td>\n",
       "      <td>2.009047</td>\n",
       "      <td>156.160933</td>\n",
       "      <td>0.999223</td>\n",
       "    </tr>\n",
       "    <tr>\n",
       "      <th>7</th>\n",
       "      <th>0.000781</th>\n",
       "      <td>0.000254</td>\n",
       "      <td>2.997162</td>\n",
       "      <td>0.000286</td>\n",
       "      <td>2.997302</td>\n",
       "      <td>0.061229</td>\n",
       "      <td>2.004569</td>\n",
       "      <td>78.102421</td>\n",
       "      <td>0.999594</td>\n",
       "    </tr>\n",
       "    <tr>\n",
       "      <th>8</th>\n",
       "      <th>0.000391</th>\n",
       "      <td>0.000032</td>\n",
       "      <td>2.998579</td>\n",
       "      <td>0.000036</td>\n",
       "      <td>2.998643</td>\n",
       "      <td>0.015283</td>\n",
       "      <td>2.002296</td>\n",
       "      <td>39.056816</td>\n",
       "      <td>0.999793</td>\n",
       "    </tr>\n",
       "    <tr>\n",
       "      <th>9</th>\n",
       "      <th>0.000195</th>\n",
       "      <td>0.000004</td>\n",
       "      <td>2.999142</td>\n",
       "      <td>0.000004</td>\n",
       "      <td>2.999311</td>\n",
       "      <td>0.003818</td>\n",
       "      <td>2.001151</td>\n",
       "      <td>19.529824</td>\n",
       "      <td>0.999895</td>\n",
       "    </tr>\n",
       "  </tbody>\n",
       "</table>\n",
       "</div>"
      ],
      "text/plain": [
       "            error_var0    p_var0  error_var0    p_var0   error_var0    p_var0  \\\n",
       "k h_k                                                                           \n",
       "0 0.100000  415.870714       NaN  474.578820       NaN  1319.101531       NaN   \n",
       "1 0.050000   58.926986  2.819135   66.729709  2.830247   295.505128  2.158301   \n",
       "2 0.025000    7.843478  2.909363    8.850192  2.914549    68.535607  2.108258   \n",
       "3 0.012500    1.011670  2.954755    1.139628  2.957146    16.401306  2.063043   \n",
       "4 0.006250    0.128459  2.977360    0.144592  2.978499     4.004732  2.034033   \n",
       "5 0.003125    0.016184  2.988660    0.018210  2.989222     0.988951  2.017734   \n",
       "6 0.001563    0.002031  2.994328    0.002285  2.994606     0.245692  2.009047   \n",
       "7 0.000781    0.000254  2.997162    0.000286  2.997302     0.061229  2.004569   \n",
       "8 0.000391    0.000032  2.998579    0.000036  2.998643     0.015283  2.002296   \n",
       "9 0.000195    0.000004  2.999142    0.000004  2.999311     0.003818  2.001151   \n",
       "\n",
       "              error_var0    p_var0  \n",
       "k h_k                               \n",
       "0 0.100000  10134.877975       NaN  \n",
       "1 0.050000   4979.737256  1.025187  \n",
       "2 0.025000   2486.174646  1.002142  \n",
       "3 0.012500   1245.340813  0.997387  \n",
       "4 0.006250    623.693024  0.997633  \n",
       "5 0.003125    312.153645  0.998580  \n",
       "6 0.001563    156.160933  0.999223  \n",
       "7 0.000781     78.102421  0.999594  \n",
       "8 0.000391     39.056816  0.999793  \n",
       "9 0.000195     19.529824  0.999895  "
      ]
     },
     "execution_count": 23,
     "metadata": {},
     "output_type": "execute_result"
    }
   ],
   "source": [
    "pd.concat([df.set_index(['k', 'h_k']) for df in tables_convergence_ab3], axis=1)"
   ]
  },
  {
   "cell_type": "code",
   "execution_count": 163,
   "metadata": {
    "ExecuteTime": {
     "end_time": "2022-02-17T21:27:14.886593Z",
     "start_time": "2022-02-17T21:27:14.879470Z"
    }
   },
   "outputs": [
    {
     "name": "stdout",
     "output_type": "stream",
     "text": [
      "$1$ & $9244.0$ & $-$ & $9308.0$ & $-$ & $10226.4$ & $-$ & $20682.8$ & $-$\\\\\n",
      "\n",
      "$2$ & $2649.3$ & $1.80$ & $2657.5$ & $1.81$ & $2898.6$ & $1.82$ & $8070.1$ & $1.36$\\\\\n",
      "\n",
      "$4$ & $708.8$ & $1.90$ & $709.8$ & $1.90$ & $771.1$ & $1.91$ & $3316.1$ & $1.28$\\\\\n",
      "\n",
      "$8$ & $183.1$ & $1.95$ & $183.2$ & $1.95$ & $198.7$ & $1.96$ & $1459.9$ & $1.18$\\\\\n",
      "\n",
      "$16$ & $46.5$ & $1.98$ & $46.5$ & $1.98$ & $50.4$ & $1.98$ & $678.2$ & $1.11$\\\\\n",
      "\n",
      "$32$ & $11.7$ & $1.99$ & $11.7$ & $1.99$ & $12.7$ & $1.99$ & $325.9$ & $1.06$\\\\\n",
      "\n",
      "$64$ & $2.9$ & $1.99$ & $2.9$ & $1.99$ & $3.2$ & $1.99$ & $159.6$ & $1.03$\\\\\n",
      "\n",
      "$128$ & $0.7$ & $2.00$ & $0.7$ & $2.00$ & $0.8$ & $2.00$ & $79.0$ & $1.02$\\\\\n",
      "\n",
      "$256$ & $0.2$ & $2.00$ & $0.2$ & $2.00$ & $0.2$ & $2.00$ & $39.3$ & $1.01$\\\\\n",
      "\n",
      "$512$ & $0.0$ & $2.00$ & $0.0$ & $2.00$ & $0.0$ & $2.00$ & $19.6$ & $1.00$\\\\\n",
      "\n"
     ]
    }
   ],
   "source": [
    "for index, row in conv_tables.reset_index().iterrows():\n",
    "    k, h_k, error_var0, p_var0, error_var1, p_var1, error_var2, p_var2, error_var3, p_var3 = row\n",
    "    r_table = f\"${2**k:.0f}$ & ${error_var0:.1f}$ & ${p_var0:.2f}$ & ${error_var1:.1f}$ & ${p_var1:.2f}$ & ${error_var2:.1f}$ & ${p_var2:.2f}$ & ${error_var3:.1f}$ & ${p_var3:.2f}$\\\\\\\\\\n\"\n",
    "    print(r_table.replace(\"nan\",\"-\"))"
   ]
  },
  {
   "cell_type": "markdown",
   "metadata": {},
   "source": [
    "### Graphs"
   ]
  },
  {
   "cell_type": "code",
   "execution_count": 176,
   "metadata": {
    "ExecuteTime": {
     "end_time": "2022-02-18T18:59:16.029796Z",
     "start_time": "2022-02-18T18:59:16.008698Z"
    }
   },
   "outputs": [],
   "source": [
    "ini_method = [\"exact\",\"euler-improved\",\"euler-explicit\", \"noise\"]\n",
    "\n",
    "sol_rk = []\n",
    "t = []\n",
    "for m in ini_method:\n",
    "    t_,sol = edo_tarefa4a.solve_multistep(h=0.1,method = \"HW4\",y_true=y_true,initialization_method = m)\n",
    "    sol = np.array(sol).swapaxes(0,1)\n",
    "    t.append(t_)\n",
    "    sol_rk.append(sol)"
   ]
  },
  {
   "cell_type": "code",
   "execution_count": 179,
   "metadata": {
    "ExecuteTime": {
     "end_time": "2022-02-18T19:07:55.401788Z",
     "start_time": "2022-02-18T19:07:54.896726Z"
    },
    "run_control": {
     "marked": false
    }
   },
   "outputs": [
    {
     "name": "stderr",
     "output_type": "stream",
     "text": [
      "/Users/welberth.nascimento/miniconda3/lib/python3.7/site-packages/ipykernel_launcher.py:14: UserWarning: FixedFormatter should only be used together with FixedLocator\n",
      "  \n"
     ]
    },
    {
     "data": {
      "image/png": "[encoded data removed]",
      "text/plain": [
       "<Figure size 576x360 with 1 Axes>"
      ]
     },
     "metadata": {
      "needs_background": "light"
     },
     "output_type": "display_data"
    }
   ],
   "source": [
    "title = \" Solução Numérica  - HW4\"\n",
    "fig,ax = plt.subplots(figsize=(8,5))\n",
    "#ax.plot(t[0],sol_rk[0][0],'k--',dashes=[10,8], label=\"Initialização = Solução Exata\") #,'k--',dashes=[10,8]\n",
    "ax.plot(t[1],sol_rk[1][0],'k--', label=\"Euler Aprimorado\")\n",
    "ax.plot(t[2],sol_rk[3][0],'k+', label=\"Ruido\") \n",
    "ax.plot(t_e,y_exact[0],'k-', label=\"Solução Exata\")\n",
    "ax.set_title(title,fontsize=18, pad = 15)\n",
    "ax.set_xlabel('t', fontsize=15, labelpad = 15)\n",
    "ax.set_ylabel('$y$(t)', fontsize=15, rotation = 0, labelpad = 10)\n",
    "ax.tick_params(axis='both', which='major', labelsize=15, pad=15)\n",
    "ax.legend(fontsize=11, loc=\"lower right\");\n",
    "#ax.set_ylim([0,10])\n",
    "ax.set_xlim([0,12]);\n",
    "ax.set_yticklabels(['{:,}'.format(int(x)) for x in ax.get_yticks().tolist()])\n",
    "plt.savefig(f'images/logistic.png', dpi=200)"
   ]
  },
  {
   "cell_type": "code",
   "execution_count": 57,
   "metadata": {
    "ExecuteTime": {
     "end_time": "2022-02-17T20:18:51.645900Z",
     "start_time": "2022-02-17T20:18:51.398778Z"
    }
   },
   "outputs": [
    {
     "name": "stderr",
     "output_type": "stream",
     "text": [
      "/Users/welberth.nascimento/miniconda3/lib/python3.7/site-packages/ipykernel_launcher.py:14: UserWarning: FixedFormatter should only be used together with FixedLocator\n",
      "  \n"
     ]
    },
    {
     "data": {
      "image/png": "[encoded data removed]",
      "text/plain": [
       "<Figure size 576x360 with 1 Axes>"
      ]
     },
     "metadata": {
      "needs_background": "light"
     },
     "output_type": "display_data"
    }
   ],
   "source": [
    "title = \" h= 0.1\"\n",
    "fig,ax = plt.subplots(figsize=(8,5))\n",
    "#ax.plot(t[0],sol_rk[0][0],'k--',dashes=[10,8], label=\"Initialização = Solução Exata\") #,'k--',dashes=[10,8]\n",
    "ax.plot(t[1],sol_rk[1][0],'k--', label=\"Initialização = Euler Modificado\")\n",
    "ax.plot(t[2],sol_rk[3][0],'k+', label=\"Initialização = Ruido\") \n",
    "ax.plot(t_e,y_exact[0],'k-', label=\"Solução Exata\")\n",
    "ax.set_title(title,fontsize=18, pad = 15)\n",
    "ax.set_xlabel('t', fontsize=15, labelpad = 15)\n",
    "ax.set_ylabel('$y$(t)', fontsize=15, rotation = 0, labelpad = 10)\n",
    "ax.tick_params(axis='both', which='major', labelsize=15, pad=15)\n",
    "ax.legend(fontsize=11, loc=\"lower right\");\n",
    "ax.set_ylim([0,10])\n",
    "ax.set_xlim([0,1]);\n",
    "ax.set_yticklabels(['{:,}'.format(int(x)) for x in ax.get_yticks().tolist()]);"
   ]
  },
  {
   "cell_type": "markdown",
   "metadata": {},
   "source": [
    "## Item (C)"
   ]
  },
  {
   "cell_type": "code",
   "execution_count": 111,
   "metadata": {
    "ExecuteTime": {
     "end_time": "2022-02-17T20:43:38.466239Z",
     "start_time": "2022-02-17T20:43:38.461132Z"
    }
   },
   "outputs": [],
   "source": [
    "# constants\n",
    "t0 = 0\n",
    "y0 = np.array([1])\n",
    "tf = 20\n",
    "r,K = 2,10_0000\n",
    "h = 0.1\n",
    "n = int((tf-t0)/h)\n",
    "\n",
    "# Cauchy\n",
    "\n",
    "def y_dot2(t:float,y:np.array) -> np.array:\n",
    "    return np.array([-np.sin(t)])\n",
    "\n",
    "# True Solution\n",
    "\n",
    "def y_true2(t:float) -> np.array:\n",
    "    return np.array([np.cos(t)])"
   ]
  },
  {
   "cell_type": "code",
   "execution_count": 112,
   "metadata": {
    "ExecuteTime": {
     "end_time": "2022-02-17T20:43:38.707803Z",
     "start_time": "2022-02-17T20:43:38.667385Z"
    }
   },
   "outputs": [],
   "source": [
    "# EDO item C\n",
    "\n",
    "edo_tarefa4c = EDONumSol(y_dot = y_dot2,\n",
    "                         y_0 = y0,\n",
    "                         t_0 = t0,\n",
    "                         t_f = tf,\n",
    "                         h = h)\n",
    "\n",
    "# Exact Solution item C\n",
    "t_e2 = np.linspace(t0,tf,10000)\n",
    "y_exact2 = np.array([y_true2(t_) for t_ in t_e]).swapaxes(0,1)"
   ]
  },
  {
   "cell_type": "markdown",
   "metadata": {
    "ExecuteTime": {
     "end_time": "2022-02-17T13:16:22.845998Z",
     "start_time": "2022-02-17T13:16:22.791022Z"
    }
   },
   "source": [
    "### Graphs"
   ]
  },
  {
   "cell_type": "code",
   "execution_count": 184,
   "metadata": {
    "ExecuteTime": {
     "end_time": "2022-02-18T19:13:44.387641Z",
     "start_time": "2022-02-18T19:13:43.820724Z"
    }
   },
   "outputs": [
    {
     "data": {
      "image/png": "[encoded data removed]",
      "text/plain": [
       "<Figure size 576x360 with 1 Axes>"
      ]
     },
     "metadata": {
      "needs_background": "light"
     },
     "output_type": "display_data"
    }
   ],
   "source": [
    "hs = [0.5,0.25]\n",
    "sol_c = []\n",
    "t = []\n",
    "for h in hs:\n",
    "    t_,sol = edo_tarefa4c.solve_multistep(h=h,method = \"HW4\",y_true=y_true2,initialization_method = \"noise\")\n",
    "    sol = np.array(sol).swapaxes(0,1)\n",
    "    t.append(t_)\n",
    "    sol_c.append(sol)\n",
    "    \n",
    "title = \"Método HW4\"\n",
    "fig,ax = plt.subplots(figsize=(8,5))\n",
    "ax.plot(t[0],sol_c[0][0],'k--',dashes=[10,8], label=f\"h={hs[0]}\") #,'k--',dashes=[10,8]\n",
    "ax.plot(t[1],sol_c[1][0],'k--', label=f\"h={hs[1]}\")\n",
    "ax.plot(t_e2,y_exact2[0],'k-', label=\"Solução Exata\")\n",
    "ax.set_title(title,fontsize=18, pad = 15)\n",
    "ax.set_xlabel('t', fontsize=15, labelpad = 15)\n",
    "ax.set_ylabel('$y$(t)', fontsize=15, rotation = 0, labelpad = 10)\n",
    "ax.tick_params(axis='both', which='major', labelsize=15, pad=15)\n",
    "ax.legend(fontsize=11, loc = \"lower right\") #,bbox_to_anchor=(1.01, 0.65), loc=2\n",
    "#ax.set_ylim([0,10])\n",
    "ax.set_xlim([0,2*np.pi]);\n",
    "plt.savefig(f'images/cos_HW4.png', dpi=200)"
   ]
  },
  {
   "cell_type": "code",
   "execution_count": 183,
   "metadata": {
    "ExecuteTime": {
     "end_time": "2022-02-18T19:13:40.563246Z",
     "start_time": "2022-02-18T19:13:39.964923Z"
    }
   },
   "outputs": [
    {
     "data": {
      "image/png": "[encoded data removed]",
      "text/plain": [
       "<Figure size 576x360 with 1 Axes>"
      ]
     },
     "metadata": {
      "needs_background": "light"
     },
     "output_type": "display_data"
    }
   ],
   "source": [
    "hs = [0.5,0.25]\n",
    "sol_c = []\n",
    "t = []\n",
    "for h in hs:\n",
    "    t_,sol = edo_tarefa4c.solve_multistep(h=h,method = \"AB-3\",y_true=y_true2,initialization_method = \"noise\")\n",
    "    sol = np.array(sol).swapaxes(0,1)\n",
    "    t.append(t_)\n",
    "    sol_c.append(sol)\n",
    "    \n",
    "title = \"Método Adams-Bashford 3 Passos\"\n",
    "fig,ax = plt.subplots(figsize=(8,5))\n",
    "ax.plot(t[0],sol_c[0][0],'k--',dashes=[10,8], label=f\"h={hs[0]}\") #,'k--',dashes=[10,8]\n",
    "ax.plot(t[1],sol_c[1][0],'k--', label=f\"h={hs[1]}\")\n",
    "ax.plot(t_e2,y_exact2[0],'k-', label=\"Solução Exata\")\n",
    "ax.set_title(title,fontsize=18, pad = 15)\n",
    "ax.set_xlabel('t', fontsize=15, labelpad = 15)\n",
    "ax.set_ylabel('$y$(t)', fontsize=15, rotation = 0, labelpad = 10)\n",
    "ax.tick_params(axis='both', which='major', labelsize=15, pad=15)\n",
    "ax.legend(fontsize=11, loc = \"lower right\") #,bbox_to_anchor=(1.01, 0.65), loc=2\n",
    "#ax.set_ylim([0,10])\n",
    "ax.set_xlim([0,2*np.pi]);\n",
    "plt.savefig(f'images/cos_AB3.png', dpi=200)"
   ]
  },
  {
   "cell_type": "code",
   "execution_count": 182,
   "metadata": {
    "ExecuteTime": {
     "end_time": "2022-02-18T19:13:34.594647Z",
     "start_time": "2022-02-18T19:13:33.969265Z"
    }
   },
   "outputs": [
    {
     "data": {
      "image/png": "[encoded data removed]",
      "text/plain": [
       "<Figure size 576x360 with 1 Axes>"
      ]
     },
     "metadata": {
      "needs_background": "light"
     },
     "output_type": "display_data"
    }
   ],
   "source": [
    "hs = [0.5,0.25]\n",
    "sol_c = []\n",
    "t = []\n",
    "for h in hs:\n",
    "    t_,sol = edo_tarefa4c.solve_multistep(h=h,method = \"Leap-Frog\",y_true=y_true2,initialization_method = \"noise\")\n",
    "    sol = np.array(sol).swapaxes(0,1)\n",
    "    t.append(t_)\n",
    "    sol_c.append(sol)\n",
    "    \n",
    "title = \"Método Leap-Frog\"\n",
    "fig,ax = plt.subplots(figsize=(8,5))\n",
    "ax.plot(t[0],sol_c[0][0],'k--',dashes=[10,8], label=f\"h={hs[0]}\") #,'k--',dashes=[10,8]\n",
    "ax.plot(t[1],sol_c[1][0],'k--', label=f\"h={hs[1]}\")\n",
    "ax.plot(t_e2,y_exact2[0],'k-', label=\"Solução Exata\")\n",
    "ax.set_title(title,fontsize=18, pad = 15)\n",
    "ax.set_xlabel('t', fontsize=15, labelpad = 15)\n",
    "ax.set_ylabel('$y$(t)', fontsize=15, rotation = 0, labelpad = 10)\n",
    "ax.tick_params(axis='both', which='major', labelsize=15, pad=15)\n",
    "ax.legend(fontsize=11, loc = \"lower right\") #,bbox_to_anchor=(1.01, 0.65), loc=2\n",
    "#ax.set_ylim([0,10])\n",
    "ax.set_xlim([0,2*np.pi]);\n",
    "plt.savefig(f'images/cos_LeapFrog.png', dpi=200)"
   ]
  },
  {
   "cell_type": "markdown",
   "metadata": {},
   "source": [
    "### Convergence Analysis"
   ]
  },
  {
   "cell_type": "code",
   "execution_count": 195,
   "metadata": {
    "ExecuteTime": {
     "end_time": "2022-02-18T19:35:10.806962Z",
     "start_time": "2022-02-18T19:35:04.529489Z"
    }
   },
   "outputs": [],
   "source": [
    "conv_analysis_cos = edo_tarefa4c.convergence_analysis(h_0 = 0.1, \n",
    "                                                      max_evals=10, \n",
    "                                                      y_true = y_true2,\n",
    "                                                      initialization_method = \"noise\")\n",
    "\n",
    "tables_convergence_cos = [conv_analysis_cos(method = m) for m in [\"HW4\",\"AB-3\",\"Leap-Frog\"]]"
   ]
  },
  {
   "cell_type": "code",
   "execution_count": 196,
   "metadata": {
    "ExecuteTime": {
     "end_time": "2022-02-18T19:35:10.818788Z",
     "start_time": "2022-02-18T19:35:10.808863Z"
    }
   },
   "outputs": [],
   "source": [
    "conv_tables_cos = pd.concat([df.set_index(['k', 'h_k']) for df in tables_convergence_cos], axis=1)"
   ]
  },
  {
   "cell_type": "code",
   "execution_count": 199,
   "metadata": {
    "ExecuteTime": {
     "end_time": "2022-02-18T19:39:52.107242Z",
     "start_time": "2022-02-18T19:39:52.100170Z"
    }
   },
   "outputs": [
    {
     "name": "stdout",
     "output_type": "stream",
     "text": [
      "$1$ & $0.0950$ & $-$ & $0.0950$ & $-$ & $0.0983$ & $-$\\\\\n",
      "\n",
      "$2$ & $0.0488$ & $0.9626$ & $0.0488$ & $0.9626$ & $0.0496$ & $0.9878$\\\\\n",
      "\n",
      "$4$ & $0.0247$ & $0.9816$ & $0.0247$ & $0.9816$ & $0.0249$ & $0.9940$\\\\\n",
      "\n",
      "$8$ & $0.0124$ & $0.9909$ & $0.0124$ & $0.9909$ & $0.0125$ & $0.9970$\\\\\n",
      "\n",
      "$16$ & $0.0062$ & $0.9955$ & $0.0062$ & $0.9955$ & $0.0062$ & $0.9985$\\\\\n",
      "\n",
      "$32$ & $0.0031$ & $0.9977$ & $0.0031$ & $0.9977$ & $0.0031$ & $0.9992$\\\\\n",
      "\n",
      "$64$ & $0.0016$ & $0.9989$ & $0.0016$ & $0.9989$ & $0.0016$ & $0.9996$\\\\\n",
      "\n",
      "$128$ & $0.0008$ & $0.9994$ & $0.0008$ & $0.9994$ & $0.0008$ & $0.9998$\\\\\n",
      "\n",
      "$256$ & $0.0004$ & $0.9997$ & $0.0004$ & $0.9997$ & $0.0004$ & $0.9999$\\\\\n",
      "\n",
      "$512$ & $0.0002$ & $0.9999$ & $0.0002$ & $0.9999$ & $0.0002$ & $1.0000$\\\\\n",
      "\n"
     ]
    }
   ],
   "source": [
    "for index, row in conv_tables_cos.reset_index().iterrows():\n",
    "    k, h_k, error_var0, p_var0, error_var1, p_var1, error_var2, p_var2 = row\n",
    "    r_table = f\"${2**k:.0f}$ & ${error_var0:.4f}$ & ${p_var0:.4f}$ & ${error_var1:.4f}$ & ${p_var1:.4f}$ & ${error_var2:.4f}$ & ${p_var2:.4f}$\\\\\\\\\\n\"\n",
    "    print(r_table.replace(\"nan\",\"-\"))"
   ]
  },
  {
   "cell_type": "code",
   "execution_count": 143,
   "metadata": {
    "ExecuteTime": {
     "end_time": "2022-02-17T21:00:46.099277Z",
     "start_time": "2022-02-17T21:00:45.806121Z"
    }
   },
   "outputs": [
    {
     "data": {
      "text/html": [
       "<div>\n",
       "<style scoped>\n",
       "    .dataframe tbody tr th:only-of-type {\n",
       "        vertical-align: middle;\n",
       "    }\n",
       "\n",
       "    .dataframe tbody tr th {\n",
       "        vertical-align: top;\n",
       "    }\n",
       "\n",
       "    .dataframe thead th {\n",
       "        text-align: right;\n",
       "    }\n",
       "</style>\n",
       "<table border=\"1\" class=\"dataframe\">\n",
       "  <thead>\n",
       "    <tr style=\"text-align: right;\">\n",
       "      <th></th>\n",
       "      <th>k</th>\n",
       "      <th>h_k</th>\n",
       "      <th>error_var0</th>\n",
       "      <th>p_var0</th>\n",
       "    </tr>\n",
       "  </thead>\n",
       "  <tbody>\n",
       "    <tr>\n",
       "      <th>0</th>\n",
       "      <td>0</td>\n",
       "      <td>1.000000</td>\n",
       "      <td>1.753303</td>\n",
       "      <td>NaN</td>\n",
       "    </tr>\n",
       "    <tr>\n",
       "      <th>1</th>\n",
       "      <td>1</td>\n",
       "      <td>0.500000</td>\n",
       "      <td>0.484223</td>\n",
       "      <td>1.856333</td>\n",
       "    </tr>\n",
       "    <tr>\n",
       "      <th>2</th>\n",
       "      <td>2</td>\n",
       "      <td>0.250000</td>\n",
       "      <td>0.218912</td>\n",
       "      <td>1.145317</td>\n",
       "    </tr>\n",
       "    <tr>\n",
       "      <th>3</th>\n",
       "      <td>3</td>\n",
       "      <td>0.125000</td>\n",
       "      <td>0.117198</td>\n",
       "      <td>0.901410</td>\n",
       "    </tr>\n",
       "    <tr>\n",
       "      <th>4</th>\n",
       "      <td>4</td>\n",
       "      <td>0.062500</td>\n",
       "      <td>0.060548</td>\n",
       "      <td>0.952804</td>\n",
       "    </tr>\n",
       "    <tr>\n",
       "      <th>5</th>\n",
       "      <td>5</td>\n",
       "      <td>0.031250</td>\n",
       "      <td>0.030762</td>\n",
       "      <td>0.976930</td>\n",
       "    </tr>\n",
       "    <tr>\n",
       "      <th>6</th>\n",
       "      <td>6</td>\n",
       "      <td>0.015625</td>\n",
       "      <td>0.015503</td>\n",
       "      <td>0.988597</td>\n",
       "    </tr>\n",
       "    <tr>\n",
       "      <th>7</th>\n",
       "      <td>7</td>\n",
       "      <td>0.007812</td>\n",
       "      <td>0.007782</td>\n",
       "      <td>0.994331</td>\n",
       "    </tr>\n",
       "    <tr>\n",
       "      <th>8</th>\n",
       "      <td>8</td>\n",
       "      <td>0.003906</td>\n",
       "      <td>0.003899</td>\n",
       "      <td>0.997174</td>\n",
       "    </tr>\n",
       "    <tr>\n",
       "      <th>9</th>\n",
       "      <td>9</td>\n",
       "      <td>0.001953</td>\n",
       "      <td>0.001951</td>\n",
       "      <td>0.998589</td>\n",
       "    </tr>\n",
       "  </tbody>\n",
       "</table>\n",
       "</div>"
      ],
      "text/plain": [
       "   k       h_k  error_var0    p_var0\n",
       "0  0  1.000000    1.753303       NaN\n",
       "1  1  0.500000    0.484223  1.856333\n",
       "2  2  0.250000    0.218912  1.145317\n",
       "3  3  0.125000    0.117198  0.901410\n",
       "4  4  0.062500    0.060548  0.952804\n",
       "5  5  0.031250    0.030762  0.976930\n",
       "6  6  0.015625    0.015503  0.988597\n",
       "7  7  0.007812    0.007782  0.994331\n",
       "8  8  0.003906    0.003899  0.997174\n",
       "9  9  0.001953    0.001951  0.998589"
      ]
     },
     "execution_count": 143,
     "metadata": {},
     "output_type": "execute_result"
    }
   ],
   "source": [
    "edo_tarefa4c.convergence_analysis(h_0 = 1, \n",
    "                                 max_evals=10, \n",
    "                                 y_true = y_true2,\n",
    "                                 method = \"HW4\",\n",
    "                                 initialization_method = \"noise\")"
   ]
  },
  {
   "cell_type": "code",
   "execution_count": 144,
   "metadata": {
    "ExecuteTime": {
     "end_time": "2022-02-17T21:00:49.255107Z",
     "start_time": "2022-02-17T21:00:48.925353Z"
    }
   },
   "outputs": [
    {
     "data": {
      "text/html": [
       "<div>\n",
       "<style scoped>\n",
       "    .dataframe tbody tr th:only-of-type {\n",
       "        vertical-align: middle;\n",
       "    }\n",
       "\n",
       "    .dataframe tbody tr th {\n",
       "        vertical-align: top;\n",
       "    }\n",
       "\n",
       "    .dataframe thead th {\n",
       "        text-align: right;\n",
       "    }\n",
       "</style>\n",
       "<table border=\"1\" class=\"dataframe\">\n",
       "  <thead>\n",
       "    <tr style=\"text-align: right;\">\n",
       "      <th></th>\n",
       "      <th>k</th>\n",
       "      <th>h_k</th>\n",
       "      <th>error_var0</th>\n",
       "      <th>p_var0</th>\n",
       "    </tr>\n",
       "  </thead>\n",
       "  <tbody>\n",
       "    <tr>\n",
       "      <th>0</th>\n",
       "      <td>0</td>\n",
       "      <td>1.000000</td>\n",
       "      <td>2.047749</td>\n",
       "      <td>NaN</td>\n",
       "    </tr>\n",
       "    <tr>\n",
       "      <th>1</th>\n",
       "      <td>1</td>\n",
       "      <td>0.500000</td>\n",
       "      <td>0.526455</td>\n",
       "      <td>1.959657</td>\n",
       "    </tr>\n",
       "    <tr>\n",
       "      <th>2</th>\n",
       "      <td>2</td>\n",
       "      <td>0.250000</td>\n",
       "      <td>0.218912</td>\n",
       "      <td>1.265956</td>\n",
       "    </tr>\n",
       "    <tr>\n",
       "      <th>3</th>\n",
       "      <td>3</td>\n",
       "      <td>0.125000</td>\n",
       "      <td>0.117198</td>\n",
       "      <td>0.901410</td>\n",
       "    </tr>\n",
       "    <tr>\n",
       "      <th>4</th>\n",
       "      <td>4</td>\n",
       "      <td>0.062500</td>\n",
       "      <td>0.060548</td>\n",
       "      <td>0.952804</td>\n",
       "    </tr>\n",
       "    <tr>\n",
       "      <th>5</th>\n",
       "      <td>5</td>\n",
       "      <td>0.031250</td>\n",
       "      <td>0.030762</td>\n",
       "      <td>0.976930</td>\n",
       "    </tr>\n",
       "    <tr>\n",
       "      <th>6</th>\n",
       "      <td>6</td>\n",
       "      <td>0.015625</td>\n",
       "      <td>0.015503</td>\n",
       "      <td>0.988597</td>\n",
       "    </tr>\n",
       "    <tr>\n",
       "      <th>7</th>\n",
       "      <td>7</td>\n",
       "      <td>0.007812</td>\n",
       "      <td>0.007782</td>\n",
       "      <td>0.994331</td>\n",
       "    </tr>\n",
       "    <tr>\n",
       "      <th>8</th>\n",
       "      <td>8</td>\n",
       "      <td>0.003906</td>\n",
       "      <td>0.003899</td>\n",
       "      <td>0.997174</td>\n",
       "    </tr>\n",
       "    <tr>\n",
       "      <th>9</th>\n",
       "      <td>9</td>\n",
       "      <td>0.001953</td>\n",
       "      <td>0.001951</td>\n",
       "      <td>0.998589</td>\n",
       "    </tr>\n",
       "  </tbody>\n",
       "</table>\n",
       "</div>"
      ],
      "text/plain": [
       "   k       h_k  error_var0    p_var0\n",
       "0  0  1.000000    2.047749       NaN\n",
       "1  1  0.500000    0.526455  1.959657\n",
       "2  2  0.250000    0.218912  1.265956\n",
       "3  3  0.125000    0.117198  0.901410\n",
       "4  4  0.062500    0.060548  0.952804\n",
       "5  5  0.031250    0.030762  0.976930\n",
       "6  6  0.015625    0.015503  0.988597\n",
       "7  7  0.007812    0.007782  0.994331\n",
       "8  8  0.003906    0.003899  0.997174\n",
       "9  9  0.001953    0.001951  0.998589"
      ]
     },
     "execution_count": 144,
     "metadata": {},
     "output_type": "execute_result"
    }
   ],
   "source": [
    "edo_tarefa4c.convergence_analysis(h_0 = 1, \n",
    "                                 max_evals=10, \n",
    "                                 y_true = y_true2,\n",
    "                                 method = \"AB-3\",\n",
    "                                 initialization_method = \"noise\")"
   ]
  },
  {
   "cell_type": "code",
   "execution_count": 168,
   "metadata": {
    "ExecuteTime": {
     "end_time": "2022-02-18T01:22:10.677692Z",
     "start_time": "2022-02-18T01:22:10.458567Z"
    }
   },
   "outputs": [
    {
     "data": {
      "text/html": [
       "<div>\n",
       "<style scoped>\n",
       "    .dataframe tbody tr th:only-of-type {\n",
       "        vertical-align: middle;\n",
       "    }\n",
       "\n",
       "    .dataframe tbody tr th {\n",
       "        vertical-align: top;\n",
       "    }\n",
       "\n",
       "    .dataframe thead th {\n",
       "        text-align: right;\n",
       "    }\n",
       "</style>\n",
       "<table border=\"1\" class=\"dataframe\">\n",
       "  <thead>\n",
       "    <tr style=\"text-align: right;\">\n",
       "      <th></th>\n",
       "      <th>k</th>\n",
       "      <th>h_k</th>\n",
       "      <th>error_var0</th>\n",
       "      <th>p_var0</th>\n",
       "    </tr>\n",
       "  </thead>\n",
       "  <tbody>\n",
       "    <tr>\n",
       "      <th>0</th>\n",
       "      <td>0</td>\n",
       "      <td>1.000000</td>\n",
       "      <td>0.828602</td>\n",
       "      <td>NaN</td>\n",
       "    </tr>\n",
       "    <tr>\n",
       "      <th>1</th>\n",
       "      <td>1</td>\n",
       "      <td>0.500000</td>\n",
       "      <td>0.458037</td>\n",
       "      <td>0.855215</td>\n",
       "    </tr>\n",
       "    <tr>\n",
       "      <th>2</th>\n",
       "      <td>2</td>\n",
       "      <td>0.250000</td>\n",
       "      <td>0.239563</td>\n",
       "      <td>0.935059</td>\n",
       "    </tr>\n",
       "    <tr>\n",
       "      <th>3</th>\n",
       "      <td>3</td>\n",
       "      <td>0.125000</td>\n",
       "      <td>0.122395</td>\n",
       "      <td>0.968864</td>\n",
       "    </tr>\n",
       "    <tr>\n",
       "      <th>4</th>\n",
       "      <td>4</td>\n",
       "      <td>0.062500</td>\n",
       "      <td>0.061849</td>\n",
       "      <td>0.984723</td>\n",
       "    </tr>\n",
       "    <tr>\n",
       "      <th>5</th>\n",
       "      <td>5</td>\n",
       "      <td>0.031250</td>\n",
       "      <td>0.031087</td>\n",
       "      <td>0.992425</td>\n",
       "    </tr>\n",
       "    <tr>\n",
       "      <th>6</th>\n",
       "      <td>6</td>\n",
       "      <td>0.015625</td>\n",
       "      <td>0.015584</td>\n",
       "      <td>0.996228</td>\n",
       "    </tr>\n",
       "    <tr>\n",
       "      <th>7</th>\n",
       "      <td>7</td>\n",
       "      <td>0.007812</td>\n",
       "      <td>0.007802</td>\n",
       "      <td>0.998118</td>\n",
       "    </tr>\n",
       "    <tr>\n",
       "      <th>8</th>\n",
       "      <td>8</td>\n",
       "      <td>0.003906</td>\n",
       "      <td>0.003904</td>\n",
       "      <td>0.999060</td>\n",
       "    </tr>\n",
       "    <tr>\n",
       "      <th>9</th>\n",
       "      <td>9</td>\n",
       "      <td>0.001953</td>\n",
       "      <td>0.001952</td>\n",
       "      <td>0.999530</td>\n",
       "    </tr>\n",
       "  </tbody>\n",
       "</table>\n",
       "</div>"
      ],
      "text/plain": [
       "   k       h_k  error_var0    p_var0\n",
       "0  0  1.000000    0.828602       NaN\n",
       "1  1  0.500000    0.458037  0.855215\n",
       "2  2  0.250000    0.239563  0.935059\n",
       "3  3  0.125000    0.122395  0.968864\n",
       "4  4  0.062500    0.061849  0.984723\n",
       "5  5  0.031250    0.031087  0.992425\n",
       "6  6  0.015625    0.015584  0.996228\n",
       "7  7  0.007812    0.007802  0.998118\n",
       "8  8  0.003906    0.003904  0.999060\n",
       "9  9  0.001953    0.001952  0.999530"
      ]
     },
     "execution_count": 168,
     "metadata": {},
     "output_type": "execute_result"
    }
   ],
   "source": [
    "edo_tarefa4c.convergence_analysis(h_0 = 1, \n",
    "                                 max_evals=10, \n",
    "                                 y_true = y_true2,\n",
    "                                 method = \"Leap-Frog\",\n",
    "                                 initialization_method = \"noise\")"
   ]
  }
 ],
 "metadata": {
  "kernelspec": {
   "display_name": "Python 3",
   "language": "python",
   "name": "python3"
  },
  "language_info": {
   "codemirror_mode": {
    "name": "ipython",
    "version": 3
   },
   "file_extension": ".py",
   "mimetype": "text/x-python",
   "name": "python",
   "nbconvert_exporter": "python",
   "pygments_lexer": "ipython3",
   "version": "3.7.9"
  },
  "toc": {
   "base_numbering": 1,
   "nav_menu": {},
   "number_sections": true,
   "sideBar": true,
   "skip_h1_title": false,
   "title_cell": "Table of Contents",
   "title_sidebar": "Contents",
   "toc_cell": false,
   "toc_position": {
    "height": "calc(100% - 180px)",
    "left": "10px",
    "top": "150px",
    "width": "165px"
   },
   "toc_section_display": true,
   "toc_window_display": true
  }
 },
 "nbformat": 4,
 "nbformat_minor": 4
}
