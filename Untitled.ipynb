{
 "cells": [
  {
   "cell_type": "code",
   "execution_count": 4,
   "metadata": {
    "ExecuteTime": {
     "end_time": "2022-01-22T18:06:38.767373Z",
     "start_time": "2022-01-22T18:06:38.753804Z"
    },
    "run_control": {
     "marked": false
    }
   },
   "outputs": [],
   "source": [
    "import numpy as np\n",
    "from collections import deque\n",
    "\n",
    "# para evitar cálculos repetidos, é interessante guardar os valores de fibonacci\n",
    "values = [-1]*20 # vetor com 20 valores\n",
    "values[0] = 0 # primeiro da sequencia\n",
    "values[1] = 1 # segundo da sequencia\n",
    "\n",
    "def fib(n):\n",
    "    if values[n] == -1:\n",
    "        for i in range(2, n+1):\n",
    "            values[i] = values[i-1] + values[i-2] #valores da seq\n",
    "    return values[n]    \n",
    "\n",
    "phi = (1 + np.sqrt(5))/2 #razao aurea\n",
    "err = float('inf') \n",
    "err_min = 10**-3 #erro minimo\n",
    "n = 2 # onde a seq vai começar a ser calculada\n",
    "\n",
    "output = deque(maxlen=10)  # guardando 10 itens\n",
    "\n",
    "while np.abs(err) > err_min: #enquanto o modulo do erro nao for menor q o erro minimo\n",
    "    phi_n = fib(n)\n",
    "    an = phi_n/fib(n-1) #razao aurea baseada na seq de fibonacci\n",
    "    err = phi - an\n",
    "    output.append([n , phi_n, an, err])\n",
    "    n += 1\n",
    "\n",
    "with open(\"tabela.txt\", 'w', encoding='utf-8') as f: #armazenando no txt\n",
    "    for iteration in output:\n",
    "        n , phi_n, an, err = iteration\n",
    "        f.write(\"{} & {} & {:.5e} & {:.5e}\\\\\\\\\\n\".format(n , phi_n, an, err))\n"
   ]
  },
  {
   "cell_type": "code",
   "execution_count": 2,
   "metadata": {
    "ExecuteTime": {
     "end_time": "2022-01-22T14:02:28.434026Z",
     "start_time": "2022-01-22T14:02:28.424400Z"
    }
   },
   "outputs": [
    {
     "data": {
      "text/plain": [
       "deque([[2, 1, 1.0, 0.6180339887498949],\n",
       "       [3, 2, 2.0, -0.3819660112501051],\n",
       "       [4, 3, 1.5, 0.1180339887498949],\n",
       "       [5, 5, 1.6666666666666667, -0.04863267791677184],\n",
       "       [6, 8, 1.6, 0.018033988749894814],\n",
       "       [7, 13, 1.625, -0.0069660112501050975],\n",
       "       [8, 21, 1.6153846153846154, 0.0026493733652794837],\n",
       "       [9, 34, 1.619047619047619, -0.0010136302977241662],\n",
       "       [10, 55, 1.6176470588235294, 0.00038692992636546464]])"
      ]
     },
     "execution_count": 2,
     "metadata": {},
     "output_type": "execute_result"
    }
   ],
   "source": [
    "output"
   ]
  },
  {
   "cell_type": "code",
   "execution_count": null,
   "metadata": {},
   "outputs": [],
   "source": []
  }
 ],
 "metadata": {
  "kernelspec": {
   "display_name": "Python 3",
   "language": "python",
   "name": "python3"
  },
  "language_info": {
   "codemirror_mode": {
    "name": "ipython",
    "version": 3
   },
   "file_extension": ".py",
   "mimetype": "text/x-python",
   "name": "python",
   "nbconvert_exporter": "python",
   "pygments_lexer": "ipython3",
   "version": "3.7.9"
  },
  "toc": {
   "base_numbering": 1,
   "nav_menu": {},
   "number_sections": true,
   "sideBar": true,
   "skip_h1_title": false,
   "title_cell": "Table of Contents",
   "title_sidebar": "Contents",
   "toc_cell": false,
   "toc_position": {},
   "toc_section_display": true,
   "toc_window_display": true
  }
 },
 "nbformat": 4,
 "nbformat_minor": 4
}
